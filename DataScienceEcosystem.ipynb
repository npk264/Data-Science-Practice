{
 "cells": [
  {
   "cell_type": "markdown",
   "id": "5732d6b7-7dcb-4d8a-ac5b-2de0e617a12f",
   "metadata": {},
   "source": [
    "# Data Science Tools for Ecosystem"
   ]
  },
  {
   "cell_type": "markdown",
   "id": "895acfc8-fb35-4116-8734-efabcef6b32a",
   "metadata": {},
   "source": [
    "##### In this notebook, Data Science Tools and Ecosystem are summarized"
   ]
  },
  {
   "cell_type": "markdown",
   "id": "96b38ac7-6bed-43cd-bffa-c87cfa66f752",
   "metadata": {},
   "source": [
    "Some of the popular languages that Data Scientists use are:\n",
    "1. Java\n",
    "2. python\n",
    "3. r\n",
    "4. scala"
   ]
  },
  {
   "cell_type": "markdown",
   "id": "db0477cf-7a1c-4306-a71c-601616c4179e",
   "metadata": {},
   "source": [
    "Some of the commonly used libraries used by Data Scientists include:\n",
    "\n",
    "1. Pandas\n",
    "2. Numpy\n",
    "3. Matplotlib\n",
    "4. Seaborn"
   ]
  },
  {
   "cell_type": "markdown",
   "id": "04d78807-4ea6-46c9-b8e9-72221a0a4aab",
   "metadata": {},
   "source": [
    "### Data Science Tools\n",
    "\n",
    "Anaconda <br>\n",
    "Jupyter Notebooks <br>\n",
    "R Studio <br>\n",
    "Spyder<br>\n",
    "Zeppelin <br>"
   ]
  },
  {
   "cell_type": "code",
   "execution_count": 3,
   "id": "0d9643c7-c46c-4de3-bac8-c563fb5df216",
   "metadata": {},
   "outputs": [
    {
     "name": "stdout",
     "output_type": "stream",
     "text": [
      "7\n"
     ]
    }
   ],
   "source": [
    "print(3+4)"
   ]
  },
  {
   "cell_type": "markdown",
   "id": "634cc286-4433-482f-90a5-63b1158aa29b",
   "metadata": {},
   "source": [
    "### Below are a few examples of evaluating arithematic expressions in python"
   ]
  },
  {
   "cell_type": "code",
   "execution_count": 4,
   "id": "b2c48cb4-a723-4cce-867b-8c43e51a8624",
   "metadata": {},
   "outputs": [
    {
     "data": {
      "text/plain": [
       "17"
      ]
     },
     "execution_count": 4,
     "metadata": {},
     "output_type": "execute_result"
    }
   ],
   "source": [
    "(3*4)+5  # This a simple arithmetic expression to mutiply then add integers"
   ]
  },
  {
   "cell_type": "code",
   "execution_count": 8,
   "id": "27426ee5-7ee7-47d2-8346-23c9e88ff637",
   "metadata": {},
   "outputs": [
    {
     "data": {
      "text/plain": [
       "3.3333333333333335"
      ]
     },
     "execution_count": 8,
     "metadata": {},
     "output_type": "execute_result"
    }
   ],
   "source": [
    "200/60 # This will convert 200 minutes to hours by diving by 60"
   ]
  },
  {
   "cell_type": "markdown",
   "id": "39c33801-37a5-4768-b18b-7224982e4a76",
   "metadata": {},
   "source": [
    "##### Objectives\n",
    "\n",
    "- Add comments to code cells\n",
    "- Create markdown cells\n",
    "- Add ordered and unordered lists to markdown cells\n",
    "- Format content of markdown cells with heading styles"
   ]
  },
  {
   "cell_type": "markdown",
   "id": "4df3d215-ffbd-47a5-aacf-77b0bc434cdb",
   "metadata": {},
   "source": [
    "## Author(s)\n",
    "\n",
    "Prasanna Kumar Nallam"
   ]
  },
  {
   "cell_type": "code",
   "execution_count": null,
   "id": "50b5e5e1-4c7b-495f-82e3-9a216d8748fe",
   "metadata": {},
   "outputs": [],
   "source": []
  }
 ],
 "metadata": {
  "kernelspec": {
   "display_name": "Python 3 (ipykernel)",
   "language": "python",
   "name": "python3"
  },
  "language_info": {
   "codemirror_mode": {
    "name": "ipython",
    "version": 3
   },
   "file_extension": ".py",
   "mimetype": "text/x-python",
   "name": "python",
   "nbconvert_exporter": "python",
   "pygments_lexer": "ipython3",
   "version": "3.12.4"
  }
 },
 "nbformat": 4,
 "nbformat_minor": 5
}
